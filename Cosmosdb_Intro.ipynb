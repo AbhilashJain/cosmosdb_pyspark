{
  "nbformat": 4,
  "nbformat_minor": 0,
  "metadata": {
    "colab": {
      "provenance": [],
      "authorship_tag": "ABX9TyPL+7BrAjx62ArBxRO52DgE",
      "include_colab_link": true
    },
    "kernelspec": {
      "name": "python3",
      "display_name": "Python 3"
    },
    "language_info": {
      "name": "python"
    }
  },
  "cells": [
    {
      "cell_type": "markdown",
      "metadata": {
        "id": "view-in-github",
        "colab_type": "text"
      },
      "source": [
        "<a href=\"https://colab.research.google.com/github/AbhilashJain/cosmosdb_pyspark/blob/main/Cosmosdb_Intro.ipynb\" target=\"_parent\"><img src=\"https://colab.research.google.com/assets/colab-badge.svg\" alt=\"Open In Colab\"/></a>"
      ]
    },
    {
      "cell_type": "code",
      "execution_count": 1,
      "metadata": {
        "colab": {
          "base_uri": "https://localhost:8080/"
        },
        "id": "my0IgVXcmvC9",
        "outputId": "b4d85f2f-49dd-46f2-eda6-d7fcbb409952"
      },
      "outputs": [
        {
          "output_type": "stream",
          "name": "stderr",
          "text": [
            "UsageError: Line magic function `%python` not found (But cell magic `%%python` exists, did you mean that instead?).\n"
          ]
        }
      ],
      "source": [
        "# configuration\n",
        "cosmosEndpoint = \"https://<cosmosdb_endpoint>:443/\"\n",
        "cosmosMasterKey = \"secret_key\"\n",
        "cosmosDatabaseName = \"twitter_dev\"\n",
        "cosmosContainerName = \"india_v1\"\n",
        "\n",
        "cfg = { \n",
        "  \"spark.cosmos.accountEndpoint\" : cosmosEndpoint,\n",
        "  \"spark.cosmos.accountKey\" : cosmosMasterKey,\n",
        "  \"spark.cosmos.database\" : cosmosDatabaseName,\n",
        "  \"spark.cosmos.container\" : cosmosContainerName\n",
        "}\n",
        "\n",
        "cfgWithAutoSchemaInference = {\n",
        "  \"spark.cosmos.accountEndpoint\" : cosmosEndpoint,\n",
        "  \"spark.cosmos.accountKey\" : cosmosMasterKey,\n",
        "  \"spark.cosmos.database\" : cosmosDatabaseName,\n",
        "  \"spark.cosmos.container\" : cosmosContainerName,\n",
        "  \"spark.cosmos.read.inferSchema.enabled\" : \"true\"                          \n",
        "}\n",
        "     "
      ]
    },
    {
      "cell_type": "code",
      "source": [
        "# create Cosmos Database and Cosmos Container using Catalog APIs\n",
        "spark.conf.set(\"spark.sql.catalog.cosmosCatalog\", \"com.azure.cosmos.spark.CosmosCatalog\")\n",
        "spark.conf.set(\"spark.sql.catalog.cosmosCatalog.spark.cosmos.accountEndpoint\", cosmosEndpoint)\n",
        "spark.conf.set(\"spark.sql.catalog.cosmosCatalog.spark.cosmos.accountKey\", cosmosMasterKey)\n",
        "\n",
        "# create a cosmos database\n",
        "spark.sql(\"CREATE DATABASE IF NOT EXISTS cosmosCatalog.{};\".format(cosmosDatabaseName))\n",
        "\n",
        "# create a cosmos container\n",
        "spark.sql(\"CREATE TABLE IF NOT EXISTS cosmosCatalog.{}.{} using cosmos.oltp TBLPROPERTIES(partitionKeyPath = '/asset_id')\".format(cosmosDatabaseName, cosmosContainerName))\n",
        "     \n"
      ],
      "metadata": {
        "id": "oQmqYYjEnFzB"
      },
      "execution_count": null,
      "outputs": []
    },
    {
      "cell_type": "code",
      "source": [
        "# Show the schema of the table and data without auto schema inference\n",
        "df = spark.read.format(\"cosmos.oltp\").options(**cfg).load()\n",
        "df.printSchema()\n",
        "\n",
        "df.show()"
      ],
      "metadata": {
        "id": "_1sQ3JF_nb8S"
      },
      "execution_count": null,
      "outputs": []
    },
    {
      "cell_type": "code",
      "source": [
        "# Show the schema of the table and data with auto schema inference\n",
        "df = spark.read.format(\"cosmos.oltp\").options(**cfgWithAutoSchemaInference).load()\n",
        "df.printSchema()\n",
        "\n",
        "df.show()"
      ],
      "metadata": {
        "id": "BRxlURbknhGO"
      },
      "execution_count": null,
      "outputs": []
    },
    {
      "cell_type": "code",
      "source": [],
      "metadata": {
        "id": "Wd-NB8FjnuHB"
      },
      "execution_count": null,
      "outputs": []
    }
  ]
}